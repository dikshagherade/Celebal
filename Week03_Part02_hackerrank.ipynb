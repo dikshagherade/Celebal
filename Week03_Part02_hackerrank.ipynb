{
  "nbformat": 4,
  "nbformat_minor": 0,
  "metadata": {
    "colab": {
      "name": "Week03_Part02-hackerrank.ipynb",
      "provenance": [],
      "authorship_tag": "ABX9TyPZROUPC2GR59zfHWc+foPl",
      "include_colab_link": true
    },
    "kernelspec": {
      "name": "python3",
      "display_name": "Python 3"
    },
    "language_info": {
      "name": "python"
    }
  },
  "cells": [
    {
      "cell_type": "markdown",
      "metadata": {
        "id": "view-in-github",
        "colab_type": "text"
      },
      "source": [
        "<a href=\"https://colab.research.google.com/github/dikshagherade/Celebal/blob/main/Week03_Part02_hackerrank.ipynb\" target=\"_parent\"><img src=\"https://colab.research.google.com/assets/colab-badge.svg\" alt=\"Open In Colab\"/></a>"
      ]
    },
    {
      "cell_type": "markdown",
      "source": [
        "Python Evaluation"
      ],
      "metadata": {
        "id": "TOpyGIsI9CT5"
      }
    },
    {
      "cell_type": "code",
      "source": [
        "# Enter your code here. Read input from STDIN. Print output to STDOUT\n",
        "x= input()\n",
        "eval(x)"
      ],
      "metadata": {
        "id": "E-VgUB3L9OrE"
      },
      "execution_count": null,
      "outputs": []
    },
    {
      "cell_type": "markdown",
      "source": [
        "Athlete Sort"
      ],
      "metadata": {
        "id": "OakQfmGi9VEZ"
      }
    },
    {
      "cell_type": "code",
      "source": [
        "from operator import itemgetter\n",
        "nm= list(map(int, input().split()))\n",
        "n, m= nm[0], nm[1]\n",
        "rows = []\n",
        "for i in range(n):\n",
        "    rows += [list(map(int, input().split()))]\n",
        "    \n",
        "k= int(input())\n",
        "arr = sorted(rows, key=itemgetter(k))\n",
        "for i in arr:\n",
        "    print(*i)    \n"
      ],
      "metadata": {
        "id": "YXyR1aco9a6v"
      },
      "execution_count": null,
      "outputs": []
    },
    {
      "cell_type": "markdown",
      "source": [
        "The Minion Game"
      ],
      "metadata": {
        "id": "05Ya00hI9ed4"
      }
    },
    {
      "cell_type": "code",
      "source": [
        "def minion_game(string):\n",
        "    s1=0\n",
        "    s2=0\n",
        "    vow='AIEOU'\n",
        "    for i in range(len(s)):\n",
        "        if s[i] not in vow:\n",
        "            s1=s1+len(s[i:])\n",
        "        else:\n",
        "            s2=s2+len(s[i:])\n",
        "    if s1>s2:\n",
        "        print(\"Stuart\",s1)\n",
        "    elif s2>s1:\n",
        "        print(\"Kevin\",s2)\n",
        "    else:\n",
        "        print(\"Draw\")"
      ],
      "metadata": {
        "id": "8RlDO5ln9i_B"
      },
      "execution_count": null,
      "outputs": []
    },
    {
      "cell_type": "markdown",
      "source": [
        "ginortS"
      ],
      "metadata": {
        "id": "nfu4HQX39qYz"
      }
    },
    {
      "cell_type": "code",
      "source": [
        "lower = \"\"\n",
        "upper = \"\"\n",
        "odd = \"\"\n",
        "even = \"\"\n",
        "s = sorted(input())\n",
        "for i in s:\n",
        "    if i.islower():\n",
        "        lower += i\n",
        "    elif i.isupper():\n",
        "        upper += i\n",
        "    elif int(i) % 2 != 0:\n",
        "        odd += i\n",
        "    elif int(i) % 2 == 0:\n",
        "        even += i\n",
        "print(lower + upper + odd + even)\n"
      ],
      "metadata": {
        "id": "X9ddL6Ti9thz"
      },
      "execution_count": null,
      "outputs": []
    },
    {
      "cell_type": "markdown",
      "source": [
        "Set Mutations\n",
        "\n"
      ],
      "metadata": {
        "id": "gJ0YupD79zGs"
      }
    },
    {
      "cell_type": "code",
      "source": [
        "# Enter your code here. Read input from STDIN. Print output to STDOUT\n",
        "def Operations():\n",
        "    global output\n",
        "    ol = input().split()\n",
        "    operation = ol[0]\n",
        "    updaterSet =set(map(int, input().split()))\n",
        "    if operation == \"intersection_update\":\n",
        "        a.intersection_update(updaterSet)\n",
        "    elif operation == \"update\":\n",
        "        a.update(updaterSet)\n",
        "    elif operation == \"symmetric_difference_update\":\n",
        "        a.symmetric_difference_update(updaterSet)\n",
        "    elif operation== \"difference_update\":\n",
        "        a.difference_update(updaterSet)\n",
        "    output = sum(a)\n",
        "    \n",
        "input()\n",
        "a = set(map(int, input().split()))\n",
        "n = int(input())\n",
        "for i in range(n):\n",
        "    Operations()\n",
        "print(output)"
      ],
      "metadata": {
        "id": "B8DXsStX92nD"
      },
      "execution_count": null,
      "outputs": []
    },
    {
      "cell_type": "markdown",
      "source": [
        "The Captain's Room"
      ],
      "metadata": {
        "id": "Tire_-Io98t7"
      }
    },
    {
      "cell_type": "code",
      "source": [
        "k = int(input())\n",
        "rooms = list(map(int, input().split()))\n",
        "a = set()\n",
        "b = set()\n",
        "for room in rooms:\n",
        "    if room not in a:\n",
        "        a.add(room)\n",
        "        b.add(room)\n",
        "    else:\n",
        "        b.discard(room)\n",
        "b = list(b)\n",
        "print(b[0])\n"
      ],
      "metadata": {
        "id": "WMLj42df-BiV"
      },
      "execution_count": null,
      "outputs": []
    },
    {
      "cell_type": "markdown",
      "source": [
        "Merge the Tools!\n",
        "\n"
      ],
      "metadata": {
        "id": "TqducBv6-M-9"
      }
    },
    {
      "cell_type": "code",
      "source": [
        "def merge_the_tools(string, k):\n",
        "    # your code goes here\n",
        "    c=0\n",
        "    s=''\n",
        "    for i in string:\n",
        "        if i not in s:\n",
        "            s=s+i\n",
        "        c+=1\n",
        "        if(c==k):\n",
        "            print(s)\n",
        "            c=0\n",
        "            s=''"
      ],
      "metadata": {
        "id": "WVAKAC5W-NzK"
      },
      "execution_count": null,
      "outputs": []
    },
    {
      "cell_type": "markdown",
      "source": [
        "Strings:- Mean, Var, and Std\n",
        "\n"
      ],
      "metadata": {
        "id": "pzJLOXdu-aQ4"
      }
    },
    {
      "cell_type": "code",
      "source": [
        "import numpy as np\n",
        "np.set_printoptions(sign=\" \")\n",
        "n, m = list(map(int, input().split()))\n",
        "arr = np.array([input().split()for i in range(n)], dtype=int)\n",
        "print(np.mean(arr, axis=1))\n",
        "print(np.var(arr, axis=0))\n",
        "output = np.std(arr)\n",
        "print(output.round(12))\n"
      ],
      "metadata": {
        "id": "VvXvANf--f4N"
      },
      "execution_count": null,
      "outputs": []
    },
    {
      "cell_type": "markdown",
      "source": [
        "Company Logo\n",
        "\n"
      ],
      "metadata": {
        "id": "GSRIOZ2F-l3O"
      }
    },
    {
      "cell_type": "code",
      "source": [
        "from collections import Counter\n",
        "s = sorted(input())\n",
        "c = Counter(s).most_common(3)\n",
        "for i,j in c:\n",
        "    print(i, j)"
      ],
      "metadata": {
        "id": "0LmVWQ3s-oWV"
      },
      "execution_count": null,
      "outputs": []
    },
    {
      "cell_type": "markdown",
      "source": [
        "Numpy:- Sum and Prod"
      ],
      "metadata": {
        "id": "0oOB-2sy-twi"
      }
    },
    {
      "cell_type": "code",
      "source": [
        "import numpy as np\n",
        "n,m = map(int, input().split())\n",
        "arr = np.array([input().split() for i in range(n)], dtype=int)\n",
        "sumArray = np.sum(arr, axis=0)\n",
        "product = np.product(sumArray)\n",
        "print(product)"
      ],
      "metadata": {
        "id": "hIhlFmtd-z_r"
      },
      "execution_count": null,
      "outputs": []
    },
    {
      "cell_type": "markdown",
      "source": [
        "Numpy:- Min and Max"
      ],
      "metadata": {
        "id": "BqbLhyLh-77E"
      }
    },
    {
      "cell_type": "code",
      "source": [
        "import numpy as np\n",
        "n, m = list(map(int, input().split()))\n",
        "arr = np.array([input().split() for i in range(n)], dtype=int)\n",
        "minAxis = np.min(arr, axis=1)\n",
        "print(max(minAxis))"
      ],
      "metadata": {
        "id": "FqURgLIP-_3t"
      },
      "execution_count": null,
      "outputs": []
    },
    {
      "cell_type": "markdown",
      "source": [
        "Python Math:- Triangle Quest 2"
      ],
      "metadata": {
        "id": "1oo0azVc_GeN"
      }
    },
    {
      "cell_type": "code",
      "source": [
        "for i in range(1,int(input())+1): #More than 2 lines will result in 0 score. Do not leave a blank line also\n",
        "    print(((10 ** i) // 9) ** 2)\n"
      ],
      "metadata": {
        "id": "cFD5b1Ma_MKy"
      },
      "execution_count": null,
      "outputs": []
    },
    {
      "cell_type": "markdown",
      "source": [
        "Python Math:- Mod Divmod"
      ],
      "metadata": {
        "id": "XN2K7Hy9_Q1Y"
      }
    },
    {
      "cell_type": "code",
      "source": [
        "# Enter your code here. Read input from STDIN. Print output to STDOUT\n",
        "def divmod():\n",
        "    x=a//b\n",
        "    print(x)\n",
        "    y=a%b\n",
        "    print(y)\n",
        "    return(x,y)\n",
        "\n",
        "a=int(input())\n",
        "b=int(input())\n",
        "print(divmod())"
      ],
      "metadata": {
        "id": "SAxipslZ_XVA"
      },
      "execution_count": null,
      "outputs": []
    },
    {
      "cell_type": "markdown",
      "source": [
        "Python Strings:- sWAP cASE"
      ],
      "metadata": {
        "id": "eWYGJsnA_h8U"
      }
    },
    {
      "cell_type": "code",
      "source": [
        "def change(c):\n",
        "    if str.islower(c):\n",
        "        return str.upper(c)\n",
        "    else:\n",
        "        return str.lower(c)\n",
        "    \n",
        "def swap_case(s):\n",
        "    return ''.join(map(change,s))\n"
      ],
      "metadata": {
        "id": "ZQFiuJLs_rh_"
      },
      "execution_count": null,
      "outputs": []
    },
    {
      "cell_type": "markdown",
      "source": [
        "String Split and Join\n",
        "\n"
      ],
      "metadata": {
        "id": "IDeLtRyZ_xd4"
      }
    },
    {
      "cell_type": "code",
      "source": [
        "def split_and_join(line):\n",
        "    a=line.split()\n",
        "    x=\"-\".join(a)\n",
        "    return x\n",
        "\n"
      ],
      "metadata": {
        "id": "iQrc5OsA_053"
      },
      "execution_count": null,
      "outputs": []
    }
  ]
}