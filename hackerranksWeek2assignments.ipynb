{
  "nbformat": 4,
  "nbformat_minor": 0,
  "metadata": {
    "colab": {
      "name": "hackerranksWeek2assignments.ipynb",
      "provenance": [],
      "authorship_tag": "ABX9TyNzAM6isbjnTNcGvkcsttKw",
      "include_colab_link": true
    },
    "kernelspec": {
      "name": "python3",
      "display_name": "Python 3"
    },
    "language_info": {
      "name": "python"
    }
  },
  "cells": [
    {
      "cell_type": "markdown",
      "metadata": {
        "id": "view-in-github",
        "colab_type": "text"
      },
      "source": [
        "<a href=\"https://colab.research.google.com/github/dikshagherade/Celebal/blob/main/hackerranksWeek2assignments.ipynb\" target=\"_parent\"><img src=\"https://colab.research.google.com/assets/colab-badge.svg\" alt=\"Open In Colab\"/></a>"
      ]
    },
    {
      "cell_type": "code",
      "execution_count": null,
      "metadata": {
        "id": "FnqlqvQAZqZd"
      },
      "outputs": [],
      "source": [
        "You are given the shape of the array in the form of space-separated integers, each integer representing the size of different dimensions, your task is to print an array of the given shape and integer type using the tools numpy.zeros and numpy.ones"
      ]
    },
    {
      "cell_type": "code",
      "source": [
        "import numpy\n",
        "nums=tuple(map(int, input().split()))\n",
        "print(numpy.zeros(nums, dtype=numpy.int))\n",
        "print(numpy.ones(nums, dtype=numpy.int))"
      ],
      "metadata": {
        "id": "Ep8g6aInhuj-"
      },
      "execution_count": null,
      "outputs": []
    },
    {
      "cell_type": "markdown",
      "source": [
        "List Comprehension Problem.  \n",
        "You are given three integers x,y and z representing the dimensions of a cuboid along with an integer n. Print a list of all possible coordinates given by (i,j,k)on  a 3D grid where the sum of i+j+k is not equal to . Here, 0<=i<=x; 0<=j<=y; 0<=k<=z. "
      ],
      "metadata": {
        "id": "End6mmtkh5Ge"
      }
    },
    {
      "cell_type": "code",
      "source": [
        "if __name__ == '__main__':\n",
        "    x = int(raw_input())\n",
        "    y = int(raw_input())\n",
        "    z = int(raw_input())\n",
        "    n = int(raw_input())\n",
        "    l=list()\n",
        "    for i in range(x+1):\n",
        "        for j in range(y+1):\n",
        "            for k in range(z+1):\n",
        "                if(i+j+k!=n):\n",
        "                    l.append([i,j,k])\n",
        "    print(l)   "
      ],
      "metadata": {
        "id": "9PRdYdVOjjRz"
      },
      "execution_count": null,
      "outputs": []
    },
    {
      "cell_type": "markdown",
      "source": [
        "Find the runner up score.\n",
        "Given the participants' score sheet for your University Sports Day, you are required to find the runner-up score. You are given n scores. Store them in a list and find the score of the runner-up."
      ],
      "metadata": {
        "id": "sBLgp5KGjkN7"
      }
    },
    {
      "cell_type": "code",
      "source": [
        "if __name__ == '__main__':\n",
        "    n = int(raw_input())\n",
        "    arr = map(int, raw_input().split())\n",
        "    \n",
        "    a=max(arr)\n",
        "    c=arr.count(a)\n",
        "    for i in range(c):\n",
        "        arr.remove(a)\n",
        "        \n",
        "    print(max(arr))   \n",
        "    \n"
      ],
      "metadata": {
        "id": "B4Buia1ajyhk"
      },
      "execution_count": null,
      "outputs": []
    },
    {
      "cell_type": "markdown",
      "source": [
        "Given the names and grades for each student in a class of N students, store them in a nested list and print the name(s) of any student(s) having the second lowest grade."
      ],
      "metadata": {
        "id": "R4VSYlHSkTMK"
      }
    },
    {
      "cell_type": "code",
      "source": [
        "if __name__ == '__main__':\n",
        "    dic={}\n",
        "    s=list()\n",
        "    for _ in range(int(input())):\n",
        "        name = input()\n",
        "        score = float(input())\n",
        "        if score in dic:\n",
        "            dic[score].append(name)\n",
        "        else:\n",
        "            dic[score]=[name]\n",
        "        if score not in s:\n",
        "            s.append(score)\n",
        "            \n",
        "    m=min(s)\n",
        "    s.remove(m)\n",
        "    m1=min(s)"
      ],
      "metadata": {
        "id": "IHBGndOSkdJ5"
      },
      "execution_count": null,
      "outputs": []
    },
    {
      "cell_type": "markdown",
      "source": [
        "Finding the percentage\n",
        "The provided code stub will read in a dictionary containing key/value pairs of name:[marks] for a list of students. Print the average of the marks array for the student name provided, showing 2 places after the decimal"
      ],
      "metadata": {
        "id": "PHMhv_dWkjN5"
      }
    },
    {
      "cell_type": "code",
      "source": [
        "if __name__ == '__main__':\n",
        "    n = int(input())\n",
        "    student_marks = {}\n",
        "    for _ in range(n):\n",
        "        name, *line = input().split()\n",
        "        scores = list(map(float, line))\n",
        "        student_marks[name] = scores\n",
        "    query_name = input()\n",
        "    \n",
        "    s=0\n",
        "    \n",
        "    for i in student_marks[query_name]:\n",
        "        s=s+i\n",
        "    print(\"{0:.2f}\".format(s/3))    \n"
      ],
      "metadata": {
        "id": "6vxoIoYsktMZ"
      },
      "execution_count": null,
      "outputs": []
    },
    {
      "cell_type": "markdown",
      "source": [
        "Detecting floating point number.\n",
        "You are given a string .\n",
        "Your task is to verify that  is a floating point number."
      ],
      "metadata": {
        "id": "U31IEogik0T5"
      }
    },
    {
      "cell_type": "code",
      "source": [
        "import re\n",
        "pattern= r'^[+-]?[0-9]*\\.[0-9]+$'\n",
        "n = int(input())\n",
        "for i in range(n):\n",
        "    s= input()\n",
        "    print(bool(re.match(pattern, s)))\n",
        "    "
      ],
      "metadata": {
        "id": "AqExhJnflKa1"
      },
      "execution_count": null,
      "outputs": []
    },
    {
      "cell_type": "markdown",
      "source": [
        "Tuple problems.\n",
        "Given an integer,n , and n space-separated integers as input, create a tuple, t, of those n integers. Then compute and print the result of hash(t)"
      ],
      "metadata": {
        "id": "mfCkI30Qmgea"
      }
    },
    {
      "cell_type": "code",
      "source": [
        "if __name__ == '__main__':\n",
        "    n = int(input())\n",
        "    integer_list = tuple(map(int, input().split()))\n",
        "    print(hash(integer_list))"
      ],
      "metadata": {
        "id": "iGPcrQfjmvpI"
      },
      "execution_count": null,
      "outputs": []
    },
    {
      "cell_type": "markdown",
      "source": [
        "lists.\n",
        "Consider a list (list = []). You can perform the following commands:\n",
        "\n",
        "insert i e: Insert integer e at position i .\n",
        "print: Print the list.\n",
        "remove e: Delete the first occurrence of integer e.\n",
        "append e: Insert integer e at the end of the list.\n",
        "sort: Sort the list.\n",
        "pop: Pop the last element from the list.\n",
        "reverse: Reverse the list.\n",
        "Initialize your list and read in the value of n followed by n lines of commands where each command will be of the 7 types listed above. Iterate through each command in order and perform the corresponding operation on your list."
      ],
      "metadata": {
        "id": "GGrWLZxBm0-e"
      }
    },
    {
      "cell_type": "code",
      "source": [
        "lst=[]\n",
        "n=int(input())\n",
        "for i in range(n):\n",
        "    cmd=input().split()\n",
        "    if cmd[0]=='insert':\n",
        "        lst.insert(int(cmd[1]),int(cmd[2]))\n",
        "    elif cmd[0]=='print':\n",
        "        print(lst)\n",
        "    elif cmd[0]=='remove':\n",
        "        lst.remove(int(cmd[1]))\n",
        "    elif cmd[0]=='append':\n",
        "        lst.append(int(cmd[1]))\n",
        "    elif cmd[0]=='sort':\n",
        "        lst.sort()\n",
        "    elif cmd[0]=='pop':\n",
        "        lst.pop()\n",
        "    else:\n",
        "        lst.reverse()    \n"
      ],
      "metadata": {
        "id": "bFoB6SEZny4f"
      },
      "execution_count": null,
      "outputs": []
    }
  ]
}