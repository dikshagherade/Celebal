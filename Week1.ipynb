{
  "nbformat": 4,
  "nbformat_minor": 0,
  "metadata": {
    "colab": {
      "name": "Week1.ipynb",
      "provenance": [],
      "authorship_tag": "ABX9TyP3rg5GhM2KAFWGN/dl2dW8",
      "include_colab_link": true
    },
    "kernelspec": {
      "name": "python3",
      "display_name": "Python 3"
    },
    "language_info": {
      "name": "python"
    }
  },
  "cells": [
    {
      "cell_type": "markdown",
      "metadata": {
        "id": "view-in-github",
        "colab_type": "text"
      },
      "source": [
        "<a href=\"https://colab.research.google.com/github/dikshagherade/Celebal/blob/main/Week1.ipynb\" target=\"_parent\"><img src=\"https://colab.research.google.com/assets/colab-badge.svg\" alt=\"Open In Colab\"/></a>"
      ]
    },
    {
      "cell_type": "markdown",
      "source": [
        "Here is a sample line of code that can be executed in Python:\n",
        "print(\"Hello, World!\")"
      ],
      "metadata": {
        "id": "A03M2ZBrP-pa"
      }
    },
    {
      "cell_type": "code",
      "source": [
        "print(\"Hello, World!\")"
      ],
      "metadata": {
        "id": "FSQRpcJkQIya"
      },
      "execution_count": null,
      "outputs": []
    },
    {
      "cell_type": "markdown",
      "source": [
        "\n",
        "Given an integer,n , perform the following conditional actions:\n",
        "\n",
        "If n is odd, print Weird\n",
        "If n is even and in the inclusive range of  2to 5, print Not Weird\n",
        "If n is even and in the inclusive range of 6 to20 , print Weird\n",
        "If n is even and greater than 20, print Not Weird"
      ],
      "metadata": {
        "id": "dwzg3nZSQLpt"
      }
    },
    {
      "cell_type": "code",
      "source": [
        "import math\n",
        "import os\n",
        "import random\n",
        "import re\n",
        "import sys\n",
        "\n",
        "\n",
        "\n",
        "if __name__ == '__main__':\n",
        "    n = int(input().strip())  \n",
        "\n",
        "    if (n%2!=0) or (n>=6 and n<=20):\n",
        "        print(\"Weird\")\n",
        "    else:\n",
        "        print(\"Not Weird\")   \n"
      ],
      "metadata": {
        "id": "fBYqcsRMR7Kw"
      },
      "execution_count": null,
      "outputs": []
    },
    {
      "cell_type": "markdown",
      "source": [
        "The provided code stub reads two integers from STDIN, a and b. Add code to print three lines where:\n",
        "\n",
        "The first line contains the sum of the two numbers.\n",
        "The second line contains the difference of the two numbers (first - second).\n",
        "The third line contains the product of the two numbers.\n",
        "Example\n",
        "a=3\n",
        "b=5\n",
        "\n",
        "Print the following:\n",
        "\n",
        "8\n",
        "-2\n",
        "15"
      ],
      "metadata": {
        "id": "iGLcOFp9SEbH"
      }
    },
    {
      "cell_type": "code",
      "source": [
        "if __name__ == '__main__':\n",
        "    a = int(input())\n",
        "    b = int(input())\n",
        "    print(a+b)\n",
        "    print(a-b)\n",
        "    print(a*b)"
      ],
      "metadata": {
        "id": "UhISgN5WSgzM"
      },
      "execution_count": null,
      "outputs": []
    },
    {
      "cell_type": "markdown",
      "source": [
        "The provided code stub reads two integers,  a and b, from STDIN.\n",
        "\n",
        "Add logic to print two lines. The first line should contain the result of integer division,  a//b . The second line should contain the result of float division,  a/b .\n",
        "\n",
        "No rounding or formatting is necessary.\n",
        "\n",
        "Example\n",
        "a=3\n",
        "b=5\n",
        "\n",
        "The result of the integer division 3//5= 0.\n",
        "The result of the float division is 3/5= 0.6.\n",
        "Print:\n",
        "\n",
        "0 and\n",
        "0.6"
      ],
      "metadata": {
        "id": "y1kGg7xVTBfx"
      }
    },
    {
      "cell_type": "code",
      "source": [
        "if __name__ == '__main__':\n",
        "    a = int(input())\n",
        "    b = int(input())\n",
        "    print(a//b)\n",
        "    print(a/b)"
      ],
      "metadata": {
        "id": "Oo5ZDeYMTx3P"
      },
      "execution_count": null,
      "outputs": []
    },
    {
      "cell_type": "markdown",
      "source": [
        "The provided code stub reads and integer,n , from STDIN. For all non-negative integers i<n, print i^2 .\n",
        "\n",
        "Example\n",
        "n=3\n",
        "The list of non-negative integers that are less than  n=3 is [0,1,2,3]  . Print the square of each number on a separate line.\n",
        "\n",
        "0\n",
        "1\n",
        "4"
      ],
      "metadata": {
        "id": "Z1053KAQW5zg"
      }
    },
    {
      "cell_type": "code",
      "source": [
        "if __name__ == '__main__':\n",
        "    n = int(input())\n",
        "    for i in range(0,n):\n",
        "        print(i*i)"
      ],
      "metadata": {
        "id": "94dhhtJ5Xc_Q"
      },
      "execution_count": null,
      "outputs": []
    },
    {
      "cell_type": "markdown",
      "source": [
        "Given a year, determine whether it is a leap year. If it is a leap year, return the Boolean True, otherwise return False.\n",
        "\n",
        "Note that the code stub provided reads from STDIN and passes arguments to the is_leap function. It is only necessary to complete the is_leap function."
      ],
      "metadata": {
        "id": "MBJX4C9bXeJz"
      }
    },
    {
      "cell_type": "code",
      "source": [
        "def is_leap(n):\n",
        "    if n % 400==0:\n",
        "        return True\n",
        "    if n % 100==0:\n",
        "        return False\n",
        "    if n % 4 == 0:\n",
        "        return True\n",
        "    return False\n"
      ],
      "metadata": {
        "id": "FC6MAbAqXoFN"
      },
      "execution_count": null,
      "outputs": []
    },
    {
      "cell_type": "markdown",
      "source": [
        "You are given two integer arrays of size NXP and MXP (N & M are rows, and P is the column). Your task is to concatenate the arrays along axis 0.\n"
      ],
      "metadata": {
        "id": "xhJmbCEGX4xp"
      }
    },
    {
      "cell_type": "code",
      "source": [
        "import numpy\n",
        "n,m,p=[int(i) for i in input().split()]\n",
        "arr1=numpy.array([input().split() for i in range(n)], int)\n",
        "arr2=numpy.array([input().split() for i in range(m)], int)\n",
        "print(numpy.concatenate((arr1, arr2), axis=0))\n"
      ],
      "metadata": {
        "id": "Fdj-z4d9YiSk"
      },
      "execution_count": null,
      "outputs": []
    }
  ]
}